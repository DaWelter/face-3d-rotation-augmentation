{
 "cells": [
  {
   "cell_type": "markdown",
   "id": "c4bb2038-d734-446e-90a2-937fa218a7de",
   "metadata": {},
   "source": [
    "## Demo for reading generated zip files\n",
    "\n",
    "Assumes zip file in /tmp/testdata.zip, and therein image and .mat file under /testdata. Otherwise fileformat like 300w-lp.\n",
    "\n",
    "For creating such data, e.g. taking test/data/300wlp_miniset.zip as basis:\n",
    "\n",
    "```\n",
    "python expand_dataset.py --format 300wlp test/data/300wlp_miniset.zip /tmp/testdata\n",
    "cd /tmp/\n",
    "zip -r testdata.zip ./testdata/\n",
    "```"
   ]
  },
  {
   "cell_type": "code",
   "execution_count": 29,
   "id": "aedf82b0-1597-4ab7-ad5d-0c1f59ffd807",
   "metadata": {},
   "outputs": [],
   "source": [
    "import os\n",
    "import numpy as np\n",
    "from os.path import splitext\n",
    "import zipfile\n",
    "from pathlib import Path\n",
    "import io\n",
    "import scipy.io\n",
    "import cv2\n",
    "from typing import Any, List\n",
    "from scipy.spatial.transform import Rotation\n",
    "from collections.abc import Mapping\n",
    "from ipywidgets import interact\n",
    "from PIL import Image\n",
    "\n",
    "from face3drotationaugmentation.common import AugmentedSample, FloatArray, UInt8Array\n",
    "from face3drotationaugmentation.dataset300wlp import imdecode, parse_sample\n",
    "import face3drotationaugmentation.vis as vis"
   ]
  },
  {
   "cell_type": "code",
   "execution_count": 33,
   "id": "34f1a9ac-6947-4572-804f-2d463f475cd2",
   "metadata": {},
   "outputs": [],
   "source": [
    "class DatasetCustom300WLPLike(object):\n",
    "    '''Reads from zipfiles structured like 300w-lp and aflw2000-3d.\n",
    "\n",
    "    Adjust to your needs.\n",
    "    '''\n",
    "    def __init__(self, filename):\n",
    "        self._zf = zf = zipfile.ZipFile(filename)\n",
    "        self._matfiles = sorted(self._discover_samples(zf))\n",
    "\n",
    "    @staticmethod\n",
    "    def _discover_samples(zf):\n",
    "        filenames = [\n",
    "            f.filename\n",
    "            for f in zf.filelist\n",
    "            if splitext(f.filename)[1] == '.mat' and f.filename.startswith('testdata/')\n",
    "        ]\n",
    "        return filenames\n",
    "    \n",
    "    def __getitem__(self, i: int) -> tuple[str, AugmentedSample]:\n",
    "        \"\"\"Returns the sample and basename.\"\"\"\n",
    "        matfile = self._matfiles[i]\n",
    "\n",
    "        with io.BytesIO(self._zf.read(matfile)) as f:\n",
    "            data = scipy.io.loadmat(f)\n",
    "\n",
    "        jpgbuffer = self._zf.read(splitext(matfile)[0] + '.jpg')\n",
    "        img = imdecode(jpgbuffer)\n",
    "\n",
    "        name = Path(matfile).stem\n",
    "\n",
    "        sample = parse_sample(data, img)\n",
    "        return name, sample\n",
    "\n",
    "    def close(self):\n",
    "        self._zf.close()\n",
    "\n",
    "    def __len__(self):\n",
    "        return len(self._matfiles)\n",
    "\n",
    "    def __iter__(self):\n",
    "        for i in range(len(self)):\n",
    "            yield self[i]"
   ]
  },
  {
   "cell_type": "code",
   "execution_count": 34,
   "id": "824977ee-8b47-41bd-876d-d760a5583518",
   "metadata": {},
   "outputs": [],
   "source": [
    "ds = DatasetCustom300WLPLike('/tmp/testdata.zip')"
   ]
  },
  {
   "cell_type": "code",
   "execution_count": 35,
   "id": "54cbd5ab-7e62-455c-a98c-9482cc3333ad",
   "metadata": {},
   "outputs": [
    {
     "data": {
      "application/vnd.jupyter.widget-view+json": {
       "model_id": "88eab79305954a48b19551daf0129773",
       "version_major": 2,
       "version_minor": 0
      },
      "text/plain": [
       "interactive(children=(IntSlider(value=18, description='i', max=36), Output()), _dom_classes=('widget-interact'…"
      ]
     },
     "metadata": {},
     "output_type": "display_data"
    }
   ],
   "source": [
    "@interact(i = (0, len(ds)-1))\n",
    "def plot(i):\n",
    "    _, sample = ds[i]\n",
    "    img = sample.image.copy()\n",
    "    vis.draw_pose(img, sample, 255, 2)\n",
    "    display(Image.fromarray(img))"
   ]
  },
  {
   "cell_type": "code",
   "execution_count": null,
   "id": "3e80f904-9be0-410d-9f4e-98f232b7519f",
   "metadata": {},
   "outputs": [],
   "source": []
  }
 ],
 "metadata": {
  "kernelspec": {
   "display_name": "Python 3 (ipykernel)",
   "language": "python",
   "name": "python3"
  },
  "language_info": {
   "codemirror_mode": {
    "name": "ipython",
    "version": 3
   },
   "file_extension": ".py",
   "mimetype": "text/x-python",
   "name": "python",
   "nbconvert_exporter": "python",
   "pygments_lexer": "ipython3",
   "version": "3.11.6"
  }
 },
 "nbformat": 4,
 "nbformat_minor": 5
}
